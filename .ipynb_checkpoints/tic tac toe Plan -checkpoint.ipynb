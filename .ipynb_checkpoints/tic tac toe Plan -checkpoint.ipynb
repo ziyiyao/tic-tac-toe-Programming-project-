{
 "cells": [
  {
   "cell_type": "markdown",
   "metadata": {},
   "source": [
    "# Rules \n",
    "Tic-tac-toe (also known as noughts and crosses or Xs and Os) is a game for two players, X and O, who take turns marking the spaces in a 3×3 grid. The player who succeeds in placing three of their marks in a horizontal, vertical, or diagonal row wins the game.\n",
    "\n",
    "\n",
    "### Plan \n",
    "#### Variables and constants \n",
    "##### Variables\n",
    "- board - will store the 3x3 grid and the pieces placed on it - 2D Array - characters\n",
    "- locationRow - will store the location of X and O to be placed for a row - integer\n",
    "- locationCol - will store the location of X and O to be placed for a column - integer\n",
    "\n",
    "##### Constants \n",
    "- symbols - only X or O - characters \n",
    "- board - only 3x3 grid - 2D array - characters  \n",
    "\n",
    "### Algorithm\n",
    "\n",
    "\n",
    "### Test plan \n",
    "https://docs.google.com/document/d/1hdMd-qkj_FErbR25jDoS094EyorY_KglPA9pnIoKW-M/edit"
   ]
  },
  {
   "cell_type": "code",
   "execution_count": null,
   "metadata": {},
   "outputs": [],
   "source": []
  }
 ],
 "metadata": {
  "kernelspec": {
   "display_name": "Python 3",
   "language": "python",
   "name": "python3"
  },
  "language_info": {
   "codemirror_mode": {
    "name": "ipython",
    "version": 3
   },
   "file_extension": ".py",
   "mimetype": "text/x-python",
   "name": "python",
   "nbconvert_exporter": "python",
   "pygments_lexer": "ipython3",
   "version": "3.5.2"
  }
 },
 "nbformat": 4,
 "nbformat_minor": 2
}
